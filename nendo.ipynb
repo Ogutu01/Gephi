{
 "cells": [
  {
   "cell_type": "code",
   "execution_count": 81,
   "metadata": {},
   "outputs": [],
   "source": [
    "import pandas as pd\n",
    "\n",
    "# Load the dataset\n",
    "df = pd.read_csv('file.csv')"
   ]
  },
  {
   "cell_type": "code",
   "execution_count": 82,
   "metadata": {},
   "outputs": [
    {
     "data": {
      "text/html": [
       "<div>\n",
       "<style scoped>\n",
       "    .dataframe tbody tr th:only-of-type {\n",
       "        vertical-align: middle;\n",
       "    }\n",
       "\n",
       "    .dataframe tbody tr th {\n",
       "        vertical-align: top;\n",
       "    }\n",
       "\n",
       "    .dataframe thead th {\n",
       "        text-align: right;\n",
       "    }\n",
       "</style>\n",
       "<table border=\"1\" class=\"dataframe\">\n",
       "  <thead>\n",
       "    <tr style=\"text-align: right;\">\n",
       "      <th></th>\n",
       "      <th>Date</th>\n",
       "      <th>Title</th>\n",
       "      <th>Full Text</th>\n",
       "      <th>Sentiment</th>\n",
       "      <th>Emotion</th>\n",
       "      <th>Region</th>\n",
       "      <th>Account Type</th>\n",
       "      <th>Author</th>\n",
       "      <th>City</th>\n",
       "      <th>Full Name</th>\n",
       "      <th>...</th>\n",
       "      <th>Mentioned Authors</th>\n",
       "      <th>Priority</th>\n",
       "      <th>Professions</th>\n",
       "      <th>Tags</th>\n",
       "      <th>Total Monthly Visitors</th>\n",
       "      <th>Twitter Author ID</th>\n",
       "      <th>Twitter Followers</th>\n",
       "      <th>Twitter Following</th>\n",
       "      <th>Twitter Tweets</th>\n",
       "      <th>Reach (new)</th>\n",
       "    </tr>\n",
       "  </thead>\n",
       "  <tbody>\n",
       "    <tr>\n",
       "      <th>0</th>\n",
       "      <td>2022-07-19 16:47:28.000</td>\n",
       "      <td>RT @HMureithi @Kenyans This is too low for a m...</td>\n",
       "      <td>RT @HMureithi @Kenyans This is too low for a m...</td>\n",
       "      <td>negative</td>\n",
       "      <td>NaN</td>\n",
       "      <td>NaN</td>\n",
       "      <td>individual</td>\n",
       "      <td>mngesa</td>\n",
       "      <td>NaN</td>\n",
       "      <td>mngesa (sir ali)</td>\n",
       "      <td>...</td>\n",
       "      <td>@hmureithi, @kenyans</td>\n",
       "      <td>NaN</td>\n",
       "      <td>NaN</td>\n",
       "      <td>#MamaMbogaMoment</td>\n",
       "      <td>1414667000</td>\n",
       "      <td>1.342399e+08</td>\n",
       "      <td>32</td>\n",
       "      <td>159</td>\n",
       "      <td>462</td>\n",
       "      <td>0</td>\n",
       "    </tr>\n",
       "    <tr>\n",
       "      <th>1</th>\n",
       "      <td>2022-07-10 16:21:50.000</td>\n",
       "      <td>RT @kilundeezy A good reminder  @OleItumbi  pa...</td>\n",
       "      <td>RT @kilundeezy A good reminder @OleItumbi pay ...</td>\n",
       "      <td>neutral</td>\n",
       "      <td>NaN</td>\n",
       "      <td>Nairobi</td>\n",
       "      <td>individual</td>\n",
       "      <td>Olang_Moses</td>\n",
       "      <td>Nairobi</td>\n",
       "      <td>Olang_Moses (MACHIAVELLIAN)</td>\n",
       "      <td>...</td>\n",
       "      <td>@oleitumbi, @williamsruto</td>\n",
       "      <td>NaN</td>\n",
       "      <td>NaN</td>\n",
       "      <td>#MamaMbogaMoment</td>\n",
       "      <td>1414667000</td>\n",
       "      <td>4.083459e+09</td>\n",
       "      <td>21114</td>\n",
       "      <td>15120</td>\n",
       "      <td>157903</td>\n",
       "      <td>7602</td>\n",
       "    </tr>\n",
       "    <tr>\n",
       "      <th>2</th>\n",
       "      <td>2022-07-10 14:36:50.000</td>\n",
       "      <td>RT @kilundeezy A good reminder  @OleItumbi  pa...</td>\n",
       "      <td>RT @kilundeezy A good reminder @OleItumbi pay ...</td>\n",
       "      <td>neutral</td>\n",
       "      <td>NaN</td>\n",
       "      <td>Nairobi</td>\n",
       "      <td>individual</td>\n",
       "      <td>CaesarToreto</td>\n",
       "      <td>Nairobi</td>\n",
       "      <td>CaesarToreto (Czar)</td>\n",
       "      <td>...</td>\n",
       "      <td>@oleitumbi, @williamsruto</td>\n",
       "      <td>NaN</td>\n",
       "      <td>Sales/Marketing/PR (Digital Media Strategist)</td>\n",
       "      <td>#MamaMbogaMoment</td>\n",
       "      <td>1414667000</td>\n",
       "      <td>1.357592e+18</td>\n",
       "      <td>10073</td>\n",
       "      <td>1209</td>\n",
       "      <td>32910</td>\n",
       "      <td>4958</td>\n",
       "    </tr>\n",
       "    <tr>\n",
       "      <th>3</th>\n",
       "      <td>2022-07-09 15:45:27.000</td>\n",
       "      <td>RT @kilundeezy A good reminder  @OleItumbi  pa...</td>\n",
       "      <td>RT @kilundeezy A good reminder @OleItumbi pay ...</td>\n",
       "      <td>neutral</td>\n",
       "      <td>NaN</td>\n",
       "      <td>Nairobi</td>\n",
       "      <td>organisational</td>\n",
       "      <td>kirubimuigai</td>\n",
       "      <td>Nairobi</td>\n",
       "      <td>kirubimuigai (Sports IHub)</td>\n",
       "      <td>...</td>\n",
       "      <td>@oleitumbi, @williamsruto</td>\n",
       "      <td>NaN</td>\n",
       "      <td>NaN</td>\n",
       "      <td>#MamaMbogaMoment</td>\n",
       "      <td>1414667000</td>\n",
       "      <td>7.296242e+17</td>\n",
       "      <td>221</td>\n",
       "      <td>34</td>\n",
       "      <td>8326</td>\n",
       "      <td>0</td>\n",
       "    </tr>\n",
       "    <tr>\n",
       "      <th>4</th>\n",
       "      <td>2022-07-09 12:34:16.000</td>\n",
       "      <td>RT @kilundeezy A good reminder  @OleItumbi  pa...</td>\n",
       "      <td>RT @kilundeezy A good reminder @OleItumbi pay ...</td>\n",
       "      <td>neutral</td>\n",
       "      <td>NaN</td>\n",
       "      <td>Rift Valley</td>\n",
       "      <td>individual</td>\n",
       "      <td>125__iconic</td>\n",
       "      <td>Kericho</td>\n",
       "      <td>125__iconic (yusufu)</td>\n",
       "      <td>...</td>\n",
       "      <td>@oleitumbi, @williamsruto</td>\n",
       "      <td>NaN</td>\n",
       "      <td>NaN</td>\n",
       "      <td>#MamaMbogaMoment</td>\n",
       "      <td>1414667000</td>\n",
       "      <td>1.533716e+18</td>\n",
       "      <td>342</td>\n",
       "      <td>183</td>\n",
       "      <td>1705</td>\n",
       "      <td>0</td>\n",
       "    </tr>\n",
       "  </tbody>\n",
       "</table>\n",
       "<p>5 rows × 25 columns</p>\n",
       "</div>"
      ],
      "text/plain": [
       "                      Date                                              Title  \\\n",
       "0  2022-07-19 16:47:28.000  RT @HMureithi @Kenyans This is too low for a m...   \n",
       "1  2022-07-10 16:21:50.000  RT @kilundeezy A good reminder  @OleItumbi  pa...   \n",
       "2  2022-07-10 14:36:50.000  RT @kilundeezy A good reminder  @OleItumbi  pa...   \n",
       "3  2022-07-09 15:45:27.000  RT @kilundeezy A good reminder  @OleItumbi  pa...   \n",
       "4  2022-07-09 12:34:16.000  RT @kilundeezy A good reminder  @OleItumbi  pa...   \n",
       "\n",
       "                                           Full Text Sentiment Emotion  \\\n",
       "0  RT @HMureithi @Kenyans This is too low for a m...  negative     NaN   \n",
       "1  RT @kilundeezy A good reminder @OleItumbi pay ...   neutral     NaN   \n",
       "2  RT @kilundeezy A good reminder @OleItumbi pay ...   neutral     NaN   \n",
       "3  RT @kilundeezy A good reminder @OleItumbi pay ...   neutral     NaN   \n",
       "4  RT @kilundeezy A good reminder @OleItumbi pay ...   neutral     NaN   \n",
       "\n",
       "        Region    Account Type        Author     City  \\\n",
       "0          NaN      individual        mngesa      NaN   \n",
       "1      Nairobi      individual   Olang_Moses  Nairobi   \n",
       "2      Nairobi      individual  CaesarToreto  Nairobi   \n",
       "3      Nairobi  organisational  kirubimuigai  Nairobi   \n",
       "4  Rift Valley      individual   125__iconic  Kericho   \n",
       "\n",
       "                     Full Name  ...          Mentioned Authors Priority  \\\n",
       "0             mngesa (sir ali)  ...       @hmureithi, @kenyans      NaN   \n",
       "1  Olang_Moses (MACHIAVELLIAN)  ...  @oleitumbi, @williamsruto      NaN   \n",
       "2          CaesarToreto (Czar)  ...  @oleitumbi, @williamsruto      NaN   \n",
       "3   kirubimuigai (Sports IHub)  ...  @oleitumbi, @williamsruto      NaN   \n",
       "4         125__iconic (yusufu)  ...  @oleitumbi, @williamsruto      NaN   \n",
       "\n",
       "                                     Professions              Tags  \\\n",
       "0                                            NaN  #MamaMbogaMoment   \n",
       "1                                            NaN  #MamaMbogaMoment   \n",
       "2  Sales/Marketing/PR (Digital Media Strategist)  #MamaMbogaMoment   \n",
       "3                                            NaN  #MamaMbogaMoment   \n",
       "4                                            NaN  #MamaMbogaMoment   \n",
       "\n",
       "  Total Monthly Visitors Twitter Author ID  Twitter Followers  \\\n",
       "0             1414667000      1.342399e+08                 32   \n",
       "1             1414667000      4.083459e+09              21114   \n",
       "2             1414667000      1.357592e+18              10073   \n",
       "3             1414667000      7.296242e+17                221   \n",
       "4             1414667000      1.533716e+18                342   \n",
       "\n",
       "  Twitter Following Twitter Tweets  Reach (new)  \n",
       "0               159            462            0  \n",
       "1             15120         157903         7602  \n",
       "2              1209          32910         4958  \n",
       "3                34           8326            0  \n",
       "4               183           1705            0  \n",
       "\n",
       "[5 rows x 25 columns]"
      ]
     },
     "execution_count": 82,
     "metadata": {},
     "output_type": "execute_result"
    }
   ],
   "source": [
    "df.head()"
   ]
  },
  {
   "cell_type": "code",
   "execution_count": 83,
   "metadata": {},
   "outputs": [],
   "source": [
    "# Ensure 'Tags' column values are strings\n",
    "df['Tags'] = df['Tags'].astype(str)\n",
    "\n",
    "# Define the list of keywords/phrases to search for\n",
    "keywords = ['Paybill', 'Buy Airtime']\n",
    "\n",
    "# Function to check if any keyword is in the Tags column\n",
    "def contains_keywords(tags):\n",
    "    return any(keyword.lower() in tags.lower() for keyword in keywords)\n",
    "\n",
    "# Filter out rows that contain any of the keywords in the Tags column\n",
    "df = df[~df['Tags'].apply(contains_keywords)]\n",
    "\n",
    "# # Save the cleaned dataset to a CSV file\n",
    "# df.to_csv('cleaned_dataset.csv', index=False)\n"
   ]
  },
  {
   "cell_type": "code",
   "execution_count": 84,
   "metadata": {},
   "outputs": [
    {
     "data": {
      "text/plain": [
       "Date                         0\n",
       "Title                        0\n",
       "Full Text                    0\n",
       "Sentiment                    0\n",
       "Emotion                   1261\n",
       "Region                     263\n",
       "Account Type                 1\n",
       "Author                       0\n",
       "City                       300\n",
       "Full Name                    0\n",
       "Gender                      59\n",
       "Hashtags                     1\n",
       "Impact                       0\n",
       "Impressions                  0\n",
       "Interest                  1148\n",
       "Mentioned Authors          931\n",
       "Priority                  2326\n",
       "Professions               1812\n",
       "Tags                         0\n",
       "Total Monthly Visitors       0\n",
       "Twitter Author ID            1\n",
       "Twitter Followers            0\n",
       "Twitter Following            0\n",
       "Twitter Tweets               0\n",
       "Reach (new)                  0\n",
       "dtype: int64"
      ]
     },
     "execution_count": 84,
     "metadata": {},
     "output_type": "execute_result"
    }
   ],
   "source": [
    "df.isnull().sum()"
   ]
  },
  {
   "cell_type": "code",
   "execution_count": 85,
   "metadata": {},
   "outputs": [],
   "source": [
    "# Drop columns with no values\n",
    "columns_to_drop = ['Priority', 'Emotion', 'City', 'Region', 'Interest', 'Professions']\n",
    "df = df.drop(columns=columns_to_drop)\n",
    "\n",
    "# Drop rows with any NaN values\n",
    "df = df.dropna()"
   ]
  },
  {
   "cell_type": "code",
   "execution_count": 86,
   "metadata": {},
   "outputs": [
    {
     "name": "stdout",
     "output_type": "stream",
     "text": [
      "<class 'pandas.core.frame.DataFrame'>\n",
      "Index: 1364 entries, 0 to 2394\n",
      "Data columns (total 19 columns):\n",
      " #   Column                  Non-Null Count  Dtype  \n",
      "---  ------                  --------------  -----  \n",
      " 0   Date                    1364 non-null   object \n",
      " 1   Title                   1364 non-null   object \n",
      " 2   Full Text               1364 non-null   object \n",
      " 3   Sentiment               1364 non-null   object \n",
      " 4   Account Type            1364 non-null   object \n",
      " 5   Author                  1364 non-null   object \n",
      " 6   Full Name               1364 non-null   object \n",
      " 7   Gender                  1364 non-null   object \n",
      " 8   Hashtags                1364 non-null   object \n",
      " 9   Impact                  1364 non-null   float64\n",
      " 10  Impressions             1364 non-null   int64  \n",
      " 11  Mentioned Authors       1364 non-null   object \n",
      " 12  Tags                    1364 non-null   object \n",
      " 13  Total Monthly Visitors  1364 non-null   int64  \n",
      " 14  Twitter Author ID       1364 non-null   float64\n",
      " 15  Twitter Followers       1364 non-null   int64  \n",
      " 16  Twitter Following       1364 non-null   int64  \n",
      " 17  Twitter Tweets          1364 non-null   int64  \n",
      " 18  Reach (new)             1364 non-null   int64  \n",
      "dtypes: float64(2), int64(6), object(11)\n",
      "memory usage: 213.1+ KB\n"
     ]
    }
   ],
   "source": [
    "df.info()"
   ]
  },
  {
   "cell_type": "code",
   "execution_count": 87,
   "metadata": {},
   "outputs": [
    {
     "data": {
      "text/plain": [
       "0"
      ]
     },
     "execution_count": 87,
     "metadata": {},
     "output_type": "execute_result"
    }
   ],
   "source": [
    "df.duplicated().sum()"
   ]
  },
  {
   "cell_type": "code",
   "execution_count": 88,
   "metadata": {},
   "outputs": [
    {
     "name": "stdout",
     "output_type": "stream",
     "text": [
      "<class 'pandas.core.frame.DataFrame'>\n",
      "Index: 1364 entries, 0 to 2394\n",
      "Data columns (total 19 columns):\n",
      " #   Column                  Non-Null Count  Dtype  \n",
      "---  ------                  --------------  -----  \n",
      " 0   Date                    1364 non-null   object \n",
      " 1   Title                   1364 non-null   object \n",
      " 2   Full Text               1364 non-null   object \n",
      " 3   Sentiment               1364 non-null   object \n",
      " 4   Account Type            1364 non-null   object \n",
      " 5   Author                  1364 non-null   object \n",
      " 6   Full Name               1364 non-null   object \n",
      " 7   Gender                  1364 non-null   object \n",
      " 8   Hashtags                1364 non-null   object \n",
      " 9   Impact                  1364 non-null   float64\n",
      " 10  Impressions             1364 non-null   int64  \n",
      " 11  Mentioned Authors       1364 non-null   object \n",
      " 12  Tags                    1364 non-null   object \n",
      " 13  Total Monthly Visitors  1364 non-null   int64  \n",
      " 14  Twitter Author ID       1364 non-null   float64\n",
      " 15  Twitter Followers       1364 non-null   int64  \n",
      " 16  Twitter Following       1364 non-null   int64  \n",
      " 17  Twitter Tweets          1364 non-null   int64  \n",
      " 18  Reach (new)             1364 non-null   int64  \n",
      "dtypes: float64(2), int64(6), object(11)\n",
      "memory usage: 213.1+ KB\n"
     ]
    }
   ],
   "source": [
    "df.info()"
   ]
  },
  {
   "cell_type": "code",
   "execution_count": 89,
   "metadata": {},
   "outputs": [
    {
     "data": {
      "text/plain": [
       "Tags\n",
       "#MamaMbogaMoment    1364\n",
       "Name: count, dtype: int64"
      ]
     },
     "execution_count": 89,
     "metadata": {},
     "output_type": "execute_result"
    }
   ],
   "source": [
    "df.Tags.value_counts()"
   ]
  },
  {
   "cell_type": "code",
   "execution_count": 90,
   "metadata": {},
   "outputs": [],
   "source": [
    "# # Convert columns to appropriate data types\n",
    "# df['Impact'] = df['Impact'].fillna(0).astype(float)\n",
    "# df['Impressions'] = df['Impressions'].fillna(0).astype(int)\n",
    "# df['Total Monthly Visitors'] = df['Total Monthly Visitors'].fillna(0).astype('int64')  # long in Gephi\n",
    "# df['Twitter Author ID'] = df['Twitter Author ID'].fillna(0).astype('int64')  # long in Gephi\n",
    "# df['Twitter Followers'] = df['Twitter Followers'].fillna(0).astype(int)\n",
    "# df['Twitter Following'] = df['Twitter Following'].fillna(0).astype(int)\n",
    "# df['Twitter Tweets'] = df['Twitter Tweets'].fillna(0).astype(int)\n",
    "# df['Reach (new)'] = df['Reach (new)'].fillna(0).astype(int)\n",
    "\n",
    "# # Split stringlist columns\n",
    "# df['Mentioned Authors'] = df['Mentioned Authors'].apply(lambda x: x.split(', ') if pd.notna(x) else [])\n",
    "# df['Tags'] = df['Tags'].apply(lambda x: x.split(', ') if pd.notna(x) else [])\n",
    "\n",
    "# # Extract unique nodes\n",
    "# nodes = df[['Twitter Author ID', 'Author', 'Sentiment', 'Account Type',\n",
    "#             'Gender', 'Impact', 'Impressions', 'Total Monthly Visitors', 'Twitter Followers', \n",
    "#             'Twitter Following', 'Twitter Tweets', 'Reach (new)']].drop_duplicates()\n",
    "\n",
    "# # Rename columns for nodes\n",
    "# nodes = nodes.rename(columns={\n",
    "#     'Twitter Author ID': 'Id',\n",
    "#     'Author': 'Label'\n",
    "# })\n",
    "\n",
    "# # Extract edges\n",
    "# edges = df.explode('Mentioned Authors')[['Twitter Author ID', 'Mentioned Authors', 'Date', 'Hashtags', 'Impact', 'Impressions', 'Twitter Followers', 'Twitter Following', 'Twitter Tweets', 'Reach (new)']]\n",
    "# edges = edges.rename(columns={\n",
    "#     'Twitter Author ID': 'Source',\n",
    "#     'Mentioned Authors': 'Target',\n",
    "#     'Date': 'Date',\n",
    "#     'Hashtags': 'Hashtags'\n",
    "# })\n",
    "\n",
    "# # Save nodes and edges to CSV for Gephi\n",
    "# nodes.to_csv('nodes.csv', index=False)\n",
    "# edges.to_csv('edges.csv', index=False)"
   ]
  },
  {
   "cell_type": "code",
   "execution_count": 91,
   "metadata": {},
   "outputs": [],
   "source": [
    "# # Convert columns to appropriate data types\n",
    "# df['Impact'] = df['Impact'].fillna(0).astype(float)\n",
    "# df['Impressions'] = df['Impressions'].fillna(0).astype(int)\n",
    "# df['Total Monthly Visitors'] = df['Total Monthly Visitors'].fillna(0).astype('int64')  # long in Gephi\n",
    "# df['Twitter Author ID'] = df['Twitter Author ID'].fillna(0).astype('int64')  # long in Gephi\n",
    "# df['Twitter Followers'] = df['Twitter Followers'].fillna(0).astype(int)\n",
    "# df['Twitter Following'] = df['Twitter Following'].fillna(0).astype(int)\n",
    "# df['Twitter Tweets'] = df['Twitter Tweets'].fillna(0).astype(int)\n",
    "# df['Reach (new)'] = df['Reach (new)'].fillna(0).astype(int)\n",
    "\n",
    "# # Split stringlist columns\n",
    "# df['Mentioned Authors'] = df['Mentioned Authors'].apply(lambda x: x.split(', ') if pd.notna(x) else [])\n",
    "# df['Tags'] = df['Tags'].apply(lambda x: x.split(', ') if pd.notna(x) else [])\n",
    "\n",
    "# # Extract unique nodes\n",
    "# nodes = df[['Twitter Author ID', 'Author']].drop_duplicates()\n",
    "\n",
    "# # Rename columns for nodes\n",
    "# nodes = nodes.rename(columns={\n",
    "#     'Twitter Author ID': 'Id',\n",
    "#     'Author': 'Label'\n",
    "# })\n",
    "\n",
    "# # Extract edges\n",
    "# edges = df.explode('Mentioned Authors')[['Twitter Author ID', 'Mentioned Authors']]\n",
    "# edges = edges.rename(columns={\n",
    "#     'Twitter Author ID': 'Source',\n",
    "#     'Mentioned Authors': 'Target'\n",
    "# })\n",
    "\n",
    "\n",
    "# # Save nodes and edges to CSV for Gephi\n",
    "# nodes.to_csv('nodes1.csv', index=False)\n",
    "# edges.to_csv('edges1.csv', index=False)"
   ]
  },
  {
   "cell_type": "code",
   "execution_count": 92,
   "metadata": {},
   "outputs": [],
   "source": [
    "# Convert columns to appropriate data types\n",
    "df['Impact'] = df['Impact'].fillna(0).astype(float)\n",
    "df['Impressions'] = df['Impressions'].fillna(0).astype(int)\n",
    "df['Total Monthly Visitors'] = df['Total Monthly Visitors'].fillna(0).astype('int64')  # long in Gephi\n",
    "df['Twitter Author ID'] = df['Twitter Author ID'].fillna(0).astype('int64')  # long in Gephi\n",
    "df['Twitter Followers'] = df['Twitter Followers'].fillna(0).astype(int)\n",
    "df['Twitter Following'] = df['Twitter Following'].fillna(0).astype(int)\n",
    "df['Twitter Tweets'] = df['Twitter Tweets'].fillna(0).astype(int)\n",
    "df['Reach (new)'] = df['Reach (new)'].fillna(0).astype(int)\n",
    "\n",
    "# Split stringlist columns\n",
    "df['Mentioned Authors'] = df['Mentioned Authors'].apply(lambda x: x.split(', ') if pd.notna(x) else [])\n",
    "\n",
    "# Extract unique nodes\n",
    "nodes = df[['Twitter Author ID', 'Author']].drop_duplicates()\n",
    "\n",
    "# Rename columns for nodes\n",
    "nodes = nodes.rename(columns={\n",
    "    'Twitter Author ID': 'Id',\n",
    "    'Author': 'Label'\n",
    "})\n",
    "\n",
    "# Extract edges\n",
    "edges = df.explode('Mentioned Authors')[['Twitter Author ID', 'Mentioned Authors']]\n",
    "edges = edges.rename(columns={\n",
    "    'Twitter Author ID': 'Source',\n",
    "    'Mentioned Authors': 'Target'\n",
    "})\n",
    "\n",
    "\n",
    "# Identify missing nodes\n",
    "existing_nodes = df['Twitter Author ID'].unique()\n",
    "mentioned_nodes = edges['Target'].unique()\n",
    "missing_nodes = set(mentioned_nodes) - set(existing_nodes)\n",
    "\n",
    "# Create DataFrame for missing nodes\n",
    "missing_nodes_df = pd.DataFrame(list(missing_nodes), columns=['Id'])\n",
    "missing_nodes_df['Label'] = missing_nodes_df['Id']  # Assuming the label is the same as the ID for these nodes\n",
    "\n",
    "# Extract nodes from the dataset\n",
    "nodes = df[['Twitter Author ID', 'Author']].drop_duplicates()\n",
    "nodes = nodes.rename(columns={'Twitter Author ID': 'Id', 'Author': 'Label'})\n",
    "\n",
    "# Combine existing nodes with missing nodes\n",
    "nodes = pd.concat([nodes, missing_nodes_df], ignore_index=True)\n",
    "\n",
    "# Save nodes and edges to CSV for Gephi\n",
    "nodes.to_csv('nodes2.csv', index=False)\n",
    "edges.to_csv('edges2.csv', index=False)\n",
    "\n",
    "# Save the cleaned dataset\n",
    "df.to_csv('cleaned_dataset.csv', index=False)"
   ]
  },
  {
   "cell_type": "code",
   "execution_count": 93,
   "metadata": {},
   "outputs": [],
   "source": [
    "# nodes = pd.read_csv(\"nodes.csv\")\n",
    "# nodes.head()"
   ]
  },
  {
   "cell_type": "code",
   "execution_count": 94,
   "metadata": {},
   "outputs": [],
   "source": [
    "# nodes.duplicated().sum()"
   ]
  },
  {
   "cell_type": "code",
   "execution_count": 95,
   "metadata": {},
   "outputs": [],
   "source": [
    "# nodes1 = pd.read_csv(\"nodes1.csv\")\n",
    "# nodes1.head()"
   ]
  },
  {
   "cell_type": "code",
   "execution_count": 96,
   "metadata": {},
   "outputs": [
    {
     "data": {
      "text/html": [
       "<div>\n",
       "<style scoped>\n",
       "    .dataframe tbody tr th:only-of-type {\n",
       "        vertical-align: middle;\n",
       "    }\n",
       "\n",
       "    .dataframe tbody tr th {\n",
       "        vertical-align: top;\n",
       "    }\n",
       "\n",
       "    .dataframe thead th {\n",
       "        text-align: right;\n",
       "    }\n",
       "</style>\n",
       "<table border=\"1\" class=\"dataframe\">\n",
       "  <thead>\n",
       "    <tr style=\"text-align: right;\">\n",
       "      <th></th>\n",
       "      <th>Id</th>\n",
       "      <th>Label</th>\n",
       "    </tr>\n",
       "  </thead>\n",
       "  <tbody>\n",
       "    <tr>\n",
       "      <th>0</th>\n",
       "      <td>134239948</td>\n",
       "      <td>mngesa</td>\n",
       "    </tr>\n",
       "    <tr>\n",
       "      <th>1</th>\n",
       "      <td>4083458907</td>\n",
       "      <td>Olang_Moses</td>\n",
       "    </tr>\n",
       "    <tr>\n",
       "      <th>2</th>\n",
       "      <td>1357591577925935104</td>\n",
       "      <td>CaesarToreto</td>\n",
       "    </tr>\n",
       "    <tr>\n",
       "      <th>3</th>\n",
       "      <td>1533716420772646912</td>\n",
       "      <td>125__iconic</td>\n",
       "    </tr>\n",
       "    <tr>\n",
       "      <th>4</th>\n",
       "      <td>1088085142994935808</td>\n",
       "      <td>OCHI_RAS</td>\n",
       "    </tr>\n",
       "  </tbody>\n",
       "</table>\n",
       "</div>"
      ],
      "text/plain": [
       "                    Id         Label\n",
       "0            134239948        mngesa\n",
       "1           4083458907   Olang_Moses\n",
       "2  1357591577925935104  CaesarToreto\n",
       "3  1533716420772646912   125__iconic\n",
       "4  1088085142994935808      OCHI_RAS"
      ]
     },
     "execution_count": 96,
     "metadata": {},
     "output_type": "execute_result"
    }
   ],
   "source": [
    "nodes2 = pd.read_csv(\"nodes2.csv\")\n",
    "nodes2.head()"
   ]
  },
  {
   "cell_type": "code",
   "execution_count": 97,
   "metadata": {},
   "outputs": [
    {
     "name": "stdout",
     "output_type": "stream",
     "text": [
      "<class 'pandas.core.frame.DataFrame'>\n",
      "RangeIndex: 946 entries, 0 to 945\n",
      "Data columns (total 2 columns):\n",
      " #   Column  Non-Null Count  Dtype \n",
      "---  ------  --------------  ----- \n",
      " 0   Id      946 non-null    object\n",
      " 1   Label   946 non-null    object\n",
      "dtypes: object(2)\n",
      "memory usage: 14.9+ KB\n"
     ]
    }
   ],
   "source": [
    "nodes2.info()"
   ]
  },
  {
   "cell_type": "code",
   "execution_count": 98,
   "metadata": {},
   "outputs": [
    {
     "data": {
      "text/plain": [
       "5"
      ]
     },
     "execution_count": 98,
     "metadata": {},
     "output_type": "execute_result"
    }
   ],
   "source": [
    "nodes2.Id.duplicated().sum()"
   ]
  },
  {
   "cell_type": "code",
   "execution_count": 99,
   "metadata": {},
   "outputs": [],
   "source": [
    "# Drop duplicates based on 'TwitterAuthorID' column\n",
    "nodes2.drop_duplicates(subset='Id', inplace=True)"
   ]
  },
  {
   "cell_type": "code",
   "execution_count": 100,
   "metadata": {},
   "outputs": [
    {
     "data": {
      "text/plain": [
       "0"
      ]
     },
     "execution_count": 100,
     "metadata": {},
     "output_type": "execute_result"
    }
   ],
   "source": [
    "nodes2.Id.duplicated().sum()"
   ]
  },
  {
   "cell_type": "code",
   "execution_count": 101,
   "metadata": {},
   "outputs": [],
   "source": [
    "nodes2.to_csv('nodes2.csv', index = False)"
   ]
  },
  {
   "cell_type": "code",
   "execution_count": 102,
   "metadata": {},
   "outputs": [],
   "source": [
    "# nodes1.Id.duplicated().sum()\n"
   ]
  },
  {
   "cell_type": "code",
   "execution_count": 103,
   "metadata": {},
   "outputs": [],
   "source": [
    "# # Drop duplicates based on 'TwitterAuthorID' column\n",
    "# nodes1.drop_duplicates(subset='Id', inplace=True)"
   ]
  },
  {
   "cell_type": "code",
   "execution_count": 104,
   "metadata": {},
   "outputs": [],
   "source": [
    "# nodes1.Id.duplicated().sum()"
   ]
  },
  {
   "cell_type": "code",
   "execution_count": 105,
   "metadata": {},
   "outputs": [],
   "source": [
    "# nodes1.to_csv('nodes1.csv', index = False)"
   ]
  },
  {
   "cell_type": "code",
   "execution_count": 106,
   "metadata": {},
   "outputs": [],
   "source": [
    "# edges1 = pd.read_csv(\"edges1.csv\")\n",
    "# edges1.head()"
   ]
  },
  {
   "cell_type": "code",
   "execution_count": 107,
   "metadata": {},
   "outputs": [],
   "source": [
    "# edges.duplicated().sum()"
   ]
  },
  {
   "cell_type": "code",
   "execution_count": 108,
   "metadata": {},
   "outputs": [
    {
     "data": {
      "text/html": [
       "<div>\n",
       "<style scoped>\n",
       "    .dataframe tbody tr th:only-of-type {\n",
       "        vertical-align: middle;\n",
       "    }\n",
       "\n",
       "    .dataframe tbody tr th {\n",
       "        vertical-align: top;\n",
       "    }\n",
       "\n",
       "    .dataframe thead th {\n",
       "        text-align: right;\n",
       "    }\n",
       "</style>\n",
       "<table border=\"1\" class=\"dataframe\">\n",
       "  <thead>\n",
       "    <tr style=\"text-align: right;\">\n",
       "      <th></th>\n",
       "      <th>Source</th>\n",
       "      <th>Target</th>\n",
       "    </tr>\n",
       "  </thead>\n",
       "  <tbody>\n",
       "    <tr>\n",
       "      <th>0</th>\n",
       "      <td>134239948</td>\n",
       "      <td>@hmureithi</td>\n",
       "    </tr>\n",
       "    <tr>\n",
       "      <th>1</th>\n",
       "      <td>134239948</td>\n",
       "      <td>@kenyans</td>\n",
       "    </tr>\n",
       "    <tr>\n",
       "      <th>2</th>\n",
       "      <td>4083458907</td>\n",
       "      <td>@oleitumbi</td>\n",
       "    </tr>\n",
       "    <tr>\n",
       "      <th>3</th>\n",
       "      <td>4083458907</td>\n",
       "      <td>@williamsruto</td>\n",
       "    </tr>\n",
       "    <tr>\n",
       "      <th>4</th>\n",
       "      <td>1357591577925935104</td>\n",
       "      <td>@oleitumbi</td>\n",
       "    </tr>\n",
       "  </tbody>\n",
       "</table>\n",
       "</div>"
      ],
      "text/plain": [
       "                Source         Target\n",
       "0            134239948     @hmureithi\n",
       "1            134239948       @kenyans\n",
       "2           4083458907     @oleitumbi\n",
       "3           4083458907  @williamsruto\n",
       "4  1357591577925935104     @oleitumbi"
      ]
     },
     "execution_count": 108,
     "metadata": {},
     "output_type": "execute_result"
    }
   ],
   "source": [
    "edges2 = pd.read_csv(\"edges2.csv\")\n",
    "edges2.head()"
   ]
  },
  {
   "cell_type": "code",
   "execution_count": 109,
   "metadata": {},
   "outputs": [
    {
     "name": "stdout",
     "output_type": "stream",
     "text": [
      "<class 'pandas.core.frame.DataFrame'>\n",
      "RangeIndex: 2318 entries, 0 to 2317\n",
      "Data columns (total 2 columns):\n",
      " #   Column  Non-Null Count  Dtype \n",
      "---  ------  --------------  ----- \n",
      " 0   Source  2318 non-null   int64 \n",
      " 1   Target  2318 non-null   object\n",
      "dtypes: int64(1), object(1)\n",
      "memory usage: 36.3+ KB\n"
     ]
    }
   ],
   "source": [
    "edges2.info()"
   ]
  },
  {
   "cell_type": "code",
   "execution_count": 110,
   "metadata": {},
   "outputs": [
    {
     "data": {
      "text/plain": [
       "480"
      ]
     },
     "execution_count": 110,
     "metadata": {},
     "output_type": "execute_result"
    }
   ],
   "source": [
    "edges2.duplicated().sum()"
   ]
  },
  {
   "cell_type": "code",
   "execution_count": 111,
   "metadata": {},
   "outputs": [],
   "source": [
    "# edges = pd.read_csv(\"edges.csv\")\n",
    "# edges.head()"
   ]
  },
  {
   "cell_type": "code",
   "execution_count": 112,
   "metadata": {},
   "outputs": [],
   "source": [
    "# edges.duplicated().sum()"
   ]
  }
 ],
 "metadata": {
  "kernelspec": {
   "display_name": "learn-env",
   "language": "python",
   "name": "python3"
  },
  "language_info": {
   "codemirror_mode": {
    "name": "ipython",
    "version": 3
   },
   "file_extension": ".py",
   "mimetype": "text/x-python",
   "name": "python",
   "nbconvert_exporter": "python",
   "pygments_lexer": "ipython3",
   "version": "3.8.5"
  }
 },
 "nbformat": 4,
 "nbformat_minor": 2
}
